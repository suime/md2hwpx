{
 "cells": [
  {
   "cell_type": "markdown",
   "metadata": {},
   "source": [
    "## 마크다운 2 한글\n",
    "\n",
    "### xml 파싱 테스트\n"
   ]
  },
  {
   "cell_type": "markdown",
   "metadata": {
    "vscode": {
     "languageId": "xml"
    }
   },
   "source": [
    "Root\n",
    "├── Contents\n",
    "│   ├── content.hpf # 파일 자원에 관한 설명 ★\n",
    "│   ├──  header.xml # 페이지와 스타일에 관한 내용  ★★\n",
    "│   └──  section0.xml # 실제 파일 내용 ★★★\n",
    "├──  META-INF\n",
    "│   ├── container.rdf # ★\n",
    "│   ├──  container.xml # ★\n",
    "│   └──  manifest.xml # ★\n",
    "├── Preview\n",
    "│   ├── PrvImage.png # ★\n",
    "│   └──  PrvText.txt # ★\n",
    "├──  mimetype # ★\n",
    "├──  settings.xml # ★\n",
    "└──  version.xml # ★ "
   ]
  },
  {
   "cell_type": "code",
   "execution_count": 3,
   "metadata": {},
   "outputs": [],
   "source": [
    "from lxml import etree"
   ]
  },
  {
   "cell_type": "code",
   "execution_count": 5,
   "metadata": {},
   "outputs": [],
   "source": [
    "version = etree.parse(\"./assets/clean/version.xml\")"
   ]
  },
  {
   "cell_type": "code",
   "execution_count": 7,
   "metadata": {},
   "outputs": [],
   "source": [
    "root = version.getroot()"
   ]
  },
  {
   "cell_type": "code",
   "execution_count": null,
   "metadata": {},
   "outputs": [],
   "source": [
    "# 텍스트에서\n",
    "version_text = r'''\n",
    "<hv:HCFVersion xmlns:hv=\"http://www.hancom.co.kr/hwpml/2011/version\"\n",
    "    tagetApplication=\"WORDPROCESSOR\" major=\"5\" minor=\"1\" micro=\"1\" buildNumber=\"0\" os=\"1\"\n",
    "    xmlVersion=\"1.5\" application=\"Hancom Office Hangul\"\n",
    "    appVersion=\"12, 0, 0, 2887 WIN32LEWindows_10\" />'''\n",
    "version_xml = etree.fromstring(version_text)"
   ]
  },
  {
   "cell_type": "code",
   "execution_count": 28,
   "metadata": {},
   "outputs": [
    {
     "name": "stdout",
     "output_type": "stream",
     "text": [
      "b'<hv:HCFVersion xmlns:hv=\"http://www.hancom.co.kr/hwpml/2011/version\" tagetApplication=\"WORDPROCESSOR\" major=\"5\" minor=\"1\" micro=\"1\" buildNumber=\"0\" os=\"1\" xmlVersion=\"1.5\" application=\"Hancom Office Hangul\" appVersion=\"12, 0, 0, 2887 WIN32LEWindows_10\"/>'\n"
     ]
    }
   ],
   "source": [
    "print(etree.tostring(version_xml))\n",
    "\n",
    "# print(etree.tostringlist(version))"
   ]
  },
  {
   "cell_type": "code",
   "execution_count": 31,
   "metadata": {},
   "outputs": [],
   "source": [
    "# 저장하기\n",
    "xml = etree.ElementTree(version_xml)\n",
    "xml.write(\"version.xml\", pretty_print=True,\n",
    "          xml_declaration=True, encoding='UTF-8', standalone=True)"
   ]
  },
  {
   "cell_type": "markdown",
   "metadata": {},
   "source": [
    "- setting.xml\n"
   ]
  },
  {
   "cell_type": "code",
   "execution_count": null,
   "metadata": {
    "vscode": {
     "languageId": "xml"
    }
   },
   "outputs": [],
   "source": [
    "<?xml version=\"1.0\" encoding=\"UTF-8\" standalone=\"yes\"?>\n",
    "<ha:HWPApplicationSetting xmlns:ha=\"http://www.hancom.co.kr/hwpml/2011/app\"\n",
    "    xmlns:config=\"urn:oasis:names:tc:opendocument:xmlns:config:1.0\">\n",
    "    <ha:CaretPosition listIDRef=\"0\" paraIDRef=\"0\" pos=\"16\" />\n",
    "</ha:HWPApplicationSetting>"
   ]
  },
  {
   "cell_type": "code",
   "execution_count": 34,
   "metadata": {},
   "outputs": [
    {
     "name": "stdout",
     "output_type": "stream",
     "text": [
      "b'<ha:HWPApplicationSetting xmlns:ha=\"http://www.hancom.co.kr/hwpml/2011/app\" xmlns:config=\"urn:oasis:names:tc:opendocument:xmlns:config:1.0\">\\n    <ha:CaretPosition listIDRef=\"0\" paraIDRef=\"0\" pos=\"0\"/>\\n</ha:HWPApplicationSetting>'\n"
     ]
    }
   ],
   "source": [
    "def get_setting_xml(start_at_first: bool = True):\n",
    "\n",
    "    # pos = 0\n",
    "    setting_txt = \"\"\"\n",
    "<ha:HWPApplicationSetting xmlns:ha=\"http://www.hancom.co.kr/hwpml/2011/app\"\n",
    "    xmlns:config=\"urn:oasis:names:tc:opendocument:xmlns:config:1.0\">\n",
    "    <ha:CaretPosition listIDRef=\"0\" paraIDRef=\"0\" pos=\"0\" />\n",
    "</ha:HWPApplicationSetting>\"\"\"\n",
    "    setting_xml = etree.fromstring(setting_txt, parser=None)\n",
    "    return setting_xml\n",
    "\n",
    "\n",
    "print(etree.tostring(get_setting_xml()))"
   ]
  },
  {
   "cell_type": "code",
   "execution_count": null,
   "metadata": {},
   "outputs": [
    {
     "ename": "IndexError",
     "evalue": "list index out of range",
     "output_type": "error",
     "traceback": [
      "\u001b[1;31m---------------------------------------------------------------------------\u001b[0m",
      "\u001b[1;31mIndexError\u001b[0m                                Traceback (most recent call last)",
      "Cell \u001b[1;32mIn[39], line 2\u001b[0m\n\u001b[0;32m      1\u001b[0m xml \u001b[38;5;241m=\u001b[39m get_setting_xml()\n\u001b[1;32m----> 2\u001b[0m \u001b[43mxml\u001b[49m\u001b[38;5;241;43m.\u001b[39;49m\u001b[43mxpath\u001b[49m\u001b[43m(\u001b[49m\u001b[38;5;124;43m\"\u001b[39;49m\u001b[38;5;124;43m//ha\u001b[39;49m\u001b[38;5;124;43m\"\u001b[39;49m\u001b[43m)\u001b[49m\u001b[43m[\u001b[49m\u001b[38;5;241;43m0\u001b[39;49m\u001b[43m]\u001b[49m\u001b[38;5;241m.\u001b[39mtext\n",
      "\u001b[1;31mIndexError\u001b[0m: list index out of range"
     ]
    }
   ],
   "source": [
    "xml = get_setting_xml()\n",
    "xml.xpath(\"//ha\")"
   ]
  },
  {
   "cell_type": "code",
   "execution_count": 45,
   "metadata": {},
   "outputs": [
    {
     "name": "stdout",
     "output_type": "stream",
     "text": [
      "{'listIDRef': '0', 'paraIDRef': '0', 'pos': '1'}\n"
     ]
    }
   ],
   "source": [
    "namespaces = {\n",
    "    'ha': 'http://www.hancom.co.kr/hwpml/2011/app'\n",
    "}\n",
    "caret_position = xml.xpath(\"//ha:CaretPosition\", namespaces=namespaces)\n",
    "if caret_position:\n",
    "    print(caret_position[0].attrib)  #"
   ]
  },
  {
   "cell_type": "code",
   "execution_count": 44,
   "metadata": {},
   "outputs": [],
   "source": [
    "caret_position[0].attrib[\"pos\"] = '1'"
   ]
  },
  {
   "cell_type": "code",
   "execution_count": 48,
   "metadata": {},
   "outputs": [
    {
     "data": {
      "text/plain": [
       "'Preview\\\\PrvText.text\\\\asd'"
      ]
     },
     "execution_count": 48,
     "metadata": {},
     "output_type": "execute_result"
    }
   ],
   "source": [
    "import os\n",
    "os.path.join(\"Preview\", \"PrvText.text\", \"asd\")"
   ]
  },
  {
   "cell_type": "code",
   "execution_count": 50,
   "metadata": {},
   "outputs": [],
   "source": [
    "import tempfile\n",
    "\n",
    "\n",
    "def create_temp_structure():\n",
    "    # 임시 디렉토리 생성\n",
    "    temp_dir = tempfile.mkdtemp()\n",
    "\n",
    "    # 필요한 폴더들 생성\n",
    "    folders = [\"Contents\", \"META-INF\", \"Preview\"]\n",
    "    for folder in folders:\n",
    "        os.makedirs(os.path.join(temp_dir, folder), exist_ok=True)\n",
    "\n",
    "    return temp_dir"
   ]
  },
  {
   "cell_type": "code",
   "execution_count": 51,
   "metadata": {},
   "outputs": [
    {
     "data": {
      "text/plain": [
       "'C:\\\\Users\\\\박대현\\\\AppData\\\\Local\\\\Temp\\\\tmpxogzsjh2'"
      ]
     },
     "execution_count": 51,
     "metadata": {},
     "output_type": "execute_result"
    }
   ],
   "source": [
    "temp = create_temp_structure()\n",
    "temp"
   ]
  },
  {
   "cell_type": "code",
   "execution_count": null,
   "metadata": {
    "vscode": {
     "languageId": "xml"
    }
   },
   "outputs": [],
   "source": [
    "<hp:p id=\"0\" paraPrIDRef=\"21\" styleIDRef=\"0\" pageBreak=\"0\" columnBreak=\"0\" merged=\"0\">\n",
    "    <hp:run charPrIDRef=\"0\">\n",
    "        <hp:t>□ 네모 </hp:t>\n",
    "    </hp:run>\n",
    "    <hp:linesegarray>\n",
    "        <hp:lineseg textpos=\"0\" vertpos=\"3177\" vertsize=\"1000\" textheight=\"1000\" baseline=\"850\"\n",
    "            spacing=\"-100\" horzpos=\"0\" horzsize=\"48188\" flags=\"393216\" />\n",
    "    </hp:linesegarray>\n",
    "</hp:p>\n",
    "<hp:p id=\"0\" paraPrIDRef=\"21\" styleIDRef=\"0\" pageBreak=\"0\" columnBreak=\"0\" merged=\"0\">\n",
    "    <hp:run charPrIDRef=\"9\">\n",
    "        <hp:t>빨간색 </hp:t>\n",
    "    </hp:run>\n",
    "    <hp:linesegarray>\n",
    "        <hp:lineseg textpos=\"0\" vertpos=\"4077\" vertsize=\"1000\" textheight=\"1000\" baseline=\"850\"\n",
    "            spacing=\"-100\" horzpos=\"0\" horzsize=\"48188\" flags=\"393216\" />\n",
    "    </hp:linesegarray>\n",
    "</hp:p>\n",
    "<hp:p id=\"0\" paraPrIDRef=\"23\" styleIDRef=\"0\" pageBreak=\"0\" columnBreak=\"0\" merged=\"0\">\n",
    "    <hp:run charPrIDRef=\"9\">\n",
    "        <hp:t>한줄로 입력 </hp:t>\n",
    "    </hp:run>\n",
    "    <hp:linesegarray>\n",
    "        <hp:lineseg textpos=\"0\" vertpos=\"4977\" vertsize=\"1000\" textheight=\"1000\" baseline=\"850\"\n",
    "            spacing=\"-100\" horzpos=\"0\" horzsize=\"48188\" flags=\"393216\" />\n",
    "    </hp:linesegarray>\n",
    "</hp:p>"
   ]
  }
 ],
 "metadata": {
  "kernelspec": {
   "display_name": "prod",
   "language": "python",
   "name": "python3"
  },
  "language_info": {
   "codemirror_mode": {
    "name": "ipython",
    "version": 3
   },
   "file_extension": ".py",
   "mimetype": "text/x-python",
   "name": "python",
   "nbconvert_exporter": "python",
   "pygments_lexer": "ipython3",
   "version": "3.10.0"
  }
 },
 "nbformat": 4,
 "nbformat_minor": 2
}
